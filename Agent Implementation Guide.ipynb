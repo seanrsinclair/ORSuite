{
 "cells": [
  {
   "cell_type": "markdown",
   "metadata": {},
   "source": [
    "# Agent Implementation Guide\n",
    "\n",
    "Reinforcement learning agents interact with the environment and are given rewards by the environment based on the actions they take.\n",
    "\n",
    "ORSuite environments are subclasses of OpenAI Gym environments, and use the same action and observation spaces, which makes it relatively easy to design agents that will interact correctly with a given environment.\n",
    "\n",
    "(add a bit more introduction here?)"
   ]
  },
  {
   "cell_type": "markdown",
   "metadata": {},
   "source": [
    "Every environment in ORSuite consists of an action and observation space that are both [OpenAI Gym space](https://github.com/openai/gym/tree/master/gym/spaces) objects. The action space is all possible actions that can be chosen by the agent, and the observation space is all possible states that the environment can be in. Knowing what kind of spaces are used by the environment your agent is trying to interact with will allow you to write an agent that can effectively communicate with the environment.\n",
    "\n",
    "`box`: an $n$-dimensional continuous feature space with an upper and lower bound for each dimension\n",
    "\n",
    "`dict`: a dictionary of simpler spaces and labels for those spaces\n",
    "\n",
    "`discrete`: a discrete space over $n$ integers $\\{ 0, 1, ..., n-1 \\}$\n",
    "\n",
    "`multi_binary`: a binary space of size $n$\n",
    "\n",
    "`multi_discrete`: allows for multiple discrete spaces with a different number of actions in each\n",
    "\n",
    "`tuple`: a tuple space is a tuple of simpler spaces\n",
    "\n"
   ]
  },
  {
   "cell_type": "markdown",
   "metadata": {},
   "source": [
    "Include more specifics of how an agent figures out what kind of environment they're working with here"
   ]
  },
  {
   "cell_type": "markdown",
   "metadata": {},
   "source": [
    "An agent should have the following functions:\n",
    "\n",
    "\n",
    "\n",
    "\n",
    "\n",
    "class Agent(object):\n",
    "\n",
    "`__init__(config)`: initializes any necessary information for the agent (such as episode length, or information about the structure of the environment) stored in the `config` dictionary. Don't currently have a config dictionary, but should we add one? Or is the way we have it now good?\n",
    "\n",
    "Do we need `update_config`, or is that basically encapsulated by `__init__`?\n",
    "\n",
    "\n",
    "\n",
    "\n",
    "`update_obs(obs, action, reward, newObs, timestep, info)`: updates any information needed by the agent using the information passed in.\n",
    "    * `obs`: the state of the system at the previous timestep\n",
    "    * `action`: the most recent action chosen by the agent\n",
    "    * `reward`: the reward received by the agent for their most recent action\n",
    "    * `newObs`: the state of the system at the current timestep\n",
    "    * `timestep`: the current timestep\n",
    "    * `info`: a dictionary potentially containing additional information, see specific environment for details\n",
    "    \n",
    "proposed new terms:\n",
    "    * `old_state`:\n",
    "    * `action`:\n",
    "    * `reward`:\n",
    "    * `new_state`:\n",
    "    * `step`:\n",
    "    * `info`: \n",
    "\n",
    "`update_policy(self, h)`: updates internal policy based upon records.\n",
    "\n",
    "Is h intended to be the timestep?\n",
    "\n",
    "\n",
    "\n",
    "`pick_action(state, step)`: given the current state of the environment and timestep, `pick_action` chooses and returns an action from the action space."
   ]
  },
  {
   "cell_type": "code",
   "execution_count": null,
   "metadata": {
    "collapsed": true
   },
   "outputs": [],
   "source": []
  }
 ],
 "metadata": {
  "kernelspec": {
   "display_name": "Python 3",
   "language": "python",
   "name": "python3"
  },
  "language_info": {
   "codemirror_mode": {
    "name": "ipython",
    "version": 3
   },
   "file_extension": ".py",
   "mimetype": "text/x-python",
   "name": "python",
   "nbconvert_exporter": "python",
   "pygments_lexer": "ipython3",
   "version": "3.7.4"
  }
 },
 "nbformat": 4,
 "nbformat_minor": 2
}
