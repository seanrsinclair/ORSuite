{
 "cells": [
  {
   "cell_type": "code",
   "execution_count": 1,
   "id": "honest-board",
   "metadata": {},
   "outputs": [],
   "source": [
    "import sys\n",
    "\n",
    "sys.path.append('../')\n",
    "\n",
    "import numpy as np\n",
    "import copy\n",
    "import gym\n",
    "import pickle\n",
    "import or_suite"
   ]
  },
  {
   "cell_type": "code",
   "execution_count": 2,
   "id": "floating-allergy",
   "metadata": {},
   "outputs": [
    {
     "data": {
      "text/plain": [
       "array([20.])"
      ]
     },
     "execution_count": 2,
     "metadata": {},
     "output_type": "execute_result"
    }
   ],
   "source": [
    "or_suite.envs.env_configs.resource_allocation_simple_poisson_config['init_budget']"
   ]
  },
  {
   "cell_type": "code",
   "execution_count": 3,
   "id": "blank-newport",
   "metadata": {},
   "outputs": [],
   "source": [
    "file = '../data/allocation_EqualAllocation_simple_poisson/trajectory.obj'"
   ]
  },
  {
   "cell_type": "code",
   "execution_count": 4,
   "id": "colored-musician",
   "metadata": {
    "scrolled": false
   },
   "outputs": [],
   "source": [
    "with open(file, 'rb') as f:\n",
    "    x = pickle.load(f)\n",
    "    \n",
    "# x"
   ]
  },
  {
   "cell_type": "code",
   "execution_count": 5,
   "id": "generic-verse",
   "metadata": {},
   "outputs": [
    {
     "data": {
      "text/plain": [
       "-6.439293542825908e-15"
      ]
     },
     "execution_count": 5,
     "metadata": {},
     "output_type": "execute_result"
    }
   ],
   "source": [
    "or_suite.utils.delta_EFFICIENCY(x, or_suite.envs.env_configs.resource_allocation_simple_poisson_config)"
   ]
  },
  {
   "cell_type": "code",
   "execution_count": 6,
   "id": "understood-vehicle",
   "metadata": {},
   "outputs": [
    {
     "data": {
      "text/plain": [
       "-0.8444545088566828"
      ]
     },
     "execution_count": 6,
     "metadata": {},
     "output_type": "execute_result"
    }
   ],
   "source": [
    "or_suite.utils.delta_PROP(x, or_suite.envs.env_configs.resource_allocation_simple_poisson_config)"
   ]
  },
  {
   "cell_type": "code",
   "execution_count": 7,
   "id": "offensive-christian",
   "metadata": {},
   "outputs": [
    {
     "data": {
      "text/plain": [
       "-2.720662238325281"
      ]
     },
     "execution_count": 7,
     "metadata": {},
     "output_type": "execute_result"
    }
   ],
   "source": [
    "or_suite.utils.delta_HINDSIGHT_ENVY(x, or_suite.envs.env_configs.resource_allocation_simple_poisson_config)"
   ]
  },
  {
   "cell_type": "code",
   "execution_count": 8,
   "id": "official-missile",
   "metadata": {},
   "outputs": [
    {
     "name": "stderr",
     "output_type": "stream",
     "text": [
      "/home/sean/anaconda3/envs/ORSuite/lib/python3.8/site-packages/cvxpy/reductions/solvers/solving_chain.py:164: UserWarning: You are solving a parameterized problem that is not DPP. Because the problem is not DPP, subsequent solves will not be faster than the first one. For more information, see the documentation on Discplined Parametrized Programming, at\n",
      "\thttps://www.cvxpy.org/tutorial/advanced/index.html#disciplined-parametrized-programming\n",
      "  warnings.warn(dpp_error_msg)\n"
     ]
    },
    {
     "data": {
      "text/plain": [
       "-1.876209396135265"
      ]
     },
     "execution_count": 8,
     "metadata": {},
     "output_type": "execute_result"
    }
   ],
   "source": [
    "or_suite.utils.delta_COUNTERFACTUAL_ENVY(x, or_suite.envs.env_configs.resource_allocation_simple_poisson_config)"
   ]
  },
  {
   "cell_type": "code",
   "execution_count": 9,
   "id": "explicit-madagascar",
   "metadata": {},
   "outputs": [
    {
     "data": {
      "text/plain": [
       "-0.2202462479871176"
      ]
     },
     "execution_count": 9,
     "metadata": {},
     "output_type": "execute_result"
    }
   ],
   "source": [
    "or_suite.utils.delta_EXANTE_ENVY(x, or_suite.envs.env_configs.resource_allocation_simple_poisson_config)"
   ]
  }
 ],
 "metadata": {
  "kernelspec": {
   "display_name": "Python 3",
   "language": "python",
   "name": "python3"
  },
  "language_info": {
   "codemirror_mode": {
    "name": "ipython",
    "version": 3
   },
   "file_extension": ".py",
   "mimetype": "text/x-python",
   "name": "python",
   "nbconvert_exporter": "python",
   "pygments_lexer": "ipython3",
   "version": "3.8.5"
  }
 },
 "nbformat": 4,
 "nbformat_minor": 5
}
