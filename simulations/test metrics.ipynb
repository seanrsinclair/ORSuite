{
 "cells": [
  {
   "cell_type": "code",
   "execution_count": 4,
   "id": "acute-supply",
   "metadata": {},
   "outputs": [],
   "source": [
    "import sys\n",
    "\n",
    "sys.path.append('../')\n",
    "\n",
    "import numpy as np\n",
    "import copy\n",
    "import gym\n",
    "import pickle\n",
    "import or_suite"
   ]
  },
  {
   "cell_type": "code",
   "execution_count": 2,
   "id": "conservative-picnic",
   "metadata": {},
   "outputs": [],
   "source": [
    "file = '../data/allocation_EqualAllocation_simple_poisson/trajectory.obj'"
   ]
  },
  {
   "cell_type": "code",
   "execution_count": 24,
   "id": "settled-tuning",
   "metadata": {
    "scrolled": false
   },
   "outputs": [
    {
     "data": {
      "text/plain": [
       "[{'iter': 0,\n",
       "  'episode': 0,\n",
       "  'step': 0,\n",
       "  'oldState': array([20.,  5.]),\n",
       "  'action': array([[0.40778946]]),\n",
       "  'reward': array([-0.89700426]),\n",
       "  'newState': array([17.96105268,  2.        ]),\n",
       "  'info': {'type': [2]}},\n",
       " {'iter': 0,\n",
       "  'episode': 0,\n",
       "  'step': 1,\n",
       "  'oldState': array([17.96105268,  2.        ]),\n",
       "  'action': array([[1.00739697]]),\n",
       "  'reward': array([0.00736975]),\n",
       "  'newState': array([15.94625874,  1.        ]),\n",
       "  'info': {'type': [1]}},\n",
       " {'iter': 0,\n",
       "  'episode': 0,\n",
       "  'step': 2,\n",
       "  'oldState': array([15.94625874,  1.        ]),\n",
       "  'action': array([[1.92623157]]),\n",
       "  'reward': array([0.65556554]),\n",
       "  'newState': array([14.02002717,  1.        ]),\n",
       "  'info': {'type': [1]}},\n",
       " {'iter': 0,\n",
       "  'episode': 0,\n",
       "  'step': 3,\n",
       "  'oldState': array([14.02002717,  1.        ]),\n",
       "  'action': array([[2.0188195]]),\n",
       "  'reward': array([0.70251294]),\n",
       "  'newState': array([12.00120767,  1.        ]),\n",
       "  'info': {'type': [1]}},\n",
       " {'iter': 0,\n",
       "  'episode': 0,\n",
       "  'step': 4,\n",
       "  'oldState': array([12.00120767,  1.        ]),\n",
       "  'action': array([[2.00674282]]),\n",
       "  'reward': array([0.69651292]),\n",
       "  'newState': array([9.99446485, 1.        ]),\n",
       "  'info': {'type': [1]}},\n",
       " {'iter': 0,\n",
       "  'episode': 0,\n",
       "  'step': 5,\n",
       "  'oldState': array([9.99446485, 1.        ]),\n",
       "  'action': array([[2.0188195]]),\n",
       "  'reward': array([0.70251294]),\n",
       "  'newState': array([7.97564535, 1.        ]),\n",
       "  'info': {'type': [1]}},\n",
       " {'iter': 0,\n",
       "  'episode': 0,\n",
       "  'step': 6,\n",
       "  'oldState': array([7.97564535, 1.        ]),\n",
       "  'action': array([[1.97051276]]),\n",
       "  'reward': array([0.67829379]),\n",
       "  'newState': array([6.00513259, 1.        ]),\n",
       "  'info': {'type': [1]}},\n",
       " {'iter': 0,\n",
       "  'episode': 0,\n",
       "  'step': 7,\n",
       "  'oldState': array([6.00513259, 1.        ]),\n",
       "  'action': array([[2.02284507]]),\n",
       "  'reward': array([0.70450497]),\n",
       "  'newState': array([3.98228753, 2.        ]),\n",
       "  'info': {'type': [2]}},\n",
       " {'iter': 0,\n",
       "  'episode': 0,\n",
       "  'step': 8,\n",
       "  'oldState': array([3.98228753, 2.        ]),\n",
       "  'action': array([[1.00488099]]),\n",
       "  'reward': array([0.00486912]),\n",
       "  'newState': array([1.97252554, 2.        ]),\n",
       "  'info': {'type': [2]}},\n",
       " {'iter': 0,\n",
       "  'episode': 0,\n",
       "  'step': 9,\n",
       "  'oldState': array([1.97252554, 2.        ]),\n",
       "  'action': array([[0.98626277]]),\n",
       "  'reward': array([-0.01383246]),\n",
       "  'newState': array([-4.21884749e-15,  1.00000000e+00]),\n",
       "  'info': {'type': [1]}}]"
      ]
     },
     "execution_count": 24,
     "metadata": {},
     "output_type": "execute_result"
    }
   ],
   "source": [
    "with open(file, 'rb') as f:\n",
    "    x = pickle.load(f)\n",
    "    \n",
    "x"
   ]
  },
  {
   "cell_type": "code",
   "execution_count": 29,
   "id": "fixed-australia",
   "metadata": {},
   "outputs": [
    {
     "data": {
      "text/plain": [
       "array([-4.21884749e-15])"
      ]
     },
     "execution_count": 29,
     "metadata": {},
     "output_type": "execute_result"
    }
   ],
   "source": [
    "init_budget = 20\n",
    "for val in x:\n",
    "    init_budget -= val['oldState'][1]*val['action'][0]\n",
    "init_budget"
   ]
  },
  {
   "cell_type": "code",
   "execution_count": 30,
   "id": "possible-tribune",
   "metadata": {},
   "outputs": [
    {
     "data": {
      "text/plain": [
       "-1.1306705369093744"
      ]
     },
     "execution_count": 30,
     "metadata": {},
     "output_type": "execute_result"
    }
   ],
   "source": [
    "or_suite.utils.delta_envy(x, or_suite.envs.env_configs.resource_allocation_simple_poisson_config)"
   ]
  }
 ],
 "metadata": {
  "kernelspec": {
   "display_name": "Python 3",
   "language": "python",
   "name": "python3"
  },
  "language_info": {
   "codemirror_mode": {
    "name": "ipython",
    "version": 3
   },
   "file_extension": ".py",
   "mimetype": "text/x-python",
   "name": "python",
   "nbconvert_exporter": "python",
   "pygments_lexer": "ipython3",
   "version": "3.8.5"
  }
 },
 "nbformat": 4,
 "nbformat_minor": 5
}
