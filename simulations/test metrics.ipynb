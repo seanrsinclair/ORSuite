{
 "cells": [
  {
   "cell_type": "code",
   "execution_count": 4,
   "id": "divine-scientist",
   "metadata": {},
   "outputs": [],
   "source": [
    "import sys\n",
    "\n",
    "sys.path.append('../')\n",
    "\n",
    "import numpy as np\n",
    "import copy\n",
    "import gym\n",
    "import pickle\n",
    "import or_suite"
   ]
  },
  {
   "cell_type": "code",
   "execution_count": 2,
   "id": "moral-stage",
   "metadata": {},
   "outputs": [],
   "source": [
    "file = '../data/allocation_EqualAllocation_simple_poisson/trajectory.obj'"
   ]
  },
  {
   "cell_type": "code",
   "execution_count": 24,
   "id": "sensitive-spyware",
   "metadata": {
    "scrolled": false
   },
   "outputs": [
    {
     "data": {
      "text/plain": [
       "[{'iter': 0,\n",
       "  'episode': 0,\n",
       "  'step': 0,\n",
       "  'oldState': array([20.,  5.]),\n",
       "  'action': array([[0.40778946]]),\n",
       "  'reward': array([-0.89700426]),\n",
       "  'newState': array([17.96105268,  2.        ]),\n",
       "  'info': {'type': [2]}},\n",
       " {'iter': 0,\n",
       "  'episode': 0,\n",
       "  'step': 1,\n",
       "  'oldState': array([17.96105268,  2.        ]),\n",
       "  'action': array([[1.00739697]]),\n",
       "  'reward': array([0.00736975]),\n",
       "  'newState': array([15.94625874,  1.        ]),\n",
       "  'info': {'type': [1]}},\n",
       " {'iter': 0,\n",
       "  'episode': 0,\n",
       "  'step': 2,\n",
       "  'oldState': array([15.94625874,  1.        ]),\n",
       "  'action': array([[1.92623157]]),\n",
       "  'reward': array([0.65556554]),\n",
       "  'newState': array([14.02002717,  1.        ]),\n",
       "  'info': {'type': [1]}},\n",
       " {'iter': 0,\n",
       "  'episode': 0,\n",
       "  'step': 3,\n",
       "  'oldState': array([14.02002717,  1.        ]),\n",
       "  'action': array([[2.0188195]]),\n",
       "  'reward': array([0.70251294]),\n",
       "  'newState': array([12.00120767,  1.        ]),\n",
       "  'info': {'type': [1]}},\n",
       " {'iter': 0,\n",
       "  'episode': 0,\n",
       "  'step': 4,\n",
       "  'oldState': array([12.00120767,  1.        ]),\n",
       "  'action': array([[2.00674282]]),\n",
       "  'reward': array([0.69651292]),\n",
       "  'newState': array([9.99446485, 1.        ]),\n",
       "  'info': {'type': [1]}},\n",
       " {'iter': 0,\n",
       "  'episode': 0,\n",
       "  'step': 5,\n",
       "  'oldState': array([9.99446485, 1.        ]),\n",
       "  'action': array([[2.0188195]]),\n",
       "  'reward': array([0.70251294]),\n",
       "  'newState': array([7.97564535, 1.        ]),\n",
       "  'info': {'type': [1]}},\n",
       " {'iter': 0,\n",
       "  'episode': 0,\n",
       "  'step': 6,\n",
       "  'oldState': array([7.97564535, 1.        ]),\n",
       "  'action': array([[1.97051276]]),\n",
       "  'reward': array([0.67829379]),\n",
       "  'newState': array([6.00513259, 1.        ]),\n",
       "  'info': {'type': [1]}},\n",
       " {'iter': 0,\n",
       "  'episode': 0,\n",
       "  'step': 7,\n",
       "  'oldState': array([6.00513259, 1.        ]),\n",
       "  'action': array([[2.02284507]]),\n",
       "  'reward': array([0.70450497]),\n",
       "  'newState': array([3.98228753, 2.        ]),\n",
       "  'info': {'type': [2]}},\n",
       " {'iter': 0,\n",
       "  'episode': 0,\n",
       "  'step': 8,\n",
       "  'oldState': array([3.98228753, 2.        ]),\n",
       "  'action': array([[1.00488099]]),\n",
       "  'reward': array([0.00486912]),\n",
       "  'newState': array([1.97252554, 2.        ]),\n",
       "  'info': {'type': [2]}},\n",
       " {'iter': 0,\n",
       "  'episode': 0,\n",
       "  'step': 9,\n",
       "  'oldState': array([1.97252554, 2.        ]),\n",
       "  'action': array([[0.98626277]]),\n",
       "  'reward': array([-0.01383246]),\n",
       "  'newState': array([-4.21884749e-15,  1.00000000e+00]),\n",
       "  'info': {'type': [1]}}]"
      ]
     },
     "execution_count": 24,
     "metadata": {},
     "output_type": "execute_result"
    }
   ],
   "source": [
    "with open(file, 'rb') as f:\n",
    "    x = pickle.load(f)\n",
    "    \n",
    "x"
   ]
  },
  {
   "cell_type": "code",
   "execution_count": 66,
   "id": "working-sharp",
   "metadata": {},
   "outputs": [
    {
     "data": {
      "text/plain": [
       "array([-4.21884749e-15])"
      ]
     },
     "execution_count": 66,
     "metadata": {},
     "output_type": "execute_result"
    }
   ],
   "source": [
    "init_budget = 20\n",
    "for val in x:\n",
    "    init_budget -= val['oldState'][1]*val['action'][0]\n",
    "init_budget"
   ]
  },
  {
   "cell_type": "code",
   "execution_count": 68,
   "id": "polish-typing",
   "metadata": {},
   "outputs": [
    {
     "name": "stdout",
     "output_type": "stream",
     "text": [
      "Efficiency: 0.18608161827604697\n"
     ]
    },
    {
     "data": {
      "text/plain": [
       "-0.18608161827604697"
      ]
     },
     "execution_count": 68,
     "metadata": {},
     "output_type": "execute_result"
    }
   ],
   "source": [
    "or_suite.utils.delta_efficiency(x, or_suite.envs.env_configs.resource_allocation_simple_poisson_config)"
   ]
  },
  {
   "cell_type": "code",
   "execution_count": 71,
   "id": "legal-seminar",
   "metadata": {},
   "outputs": [
    {
     "name": "stdout",
     "output_type": "stream",
     "text": [
      "17.0\n",
      "[0.76868113]\n"
     ]
    }
   ],
   "source": [
    "tot_size = 0\n",
    "for val in x:\n",
    "    tot_size += val['oldState'][1]\n",
    "print(tot_size)\n",
    "prop_alloc = 20 / tot_size\n",
    "\n",
    "max_prop = 0\n",
    "for val in x:\n",
    "    max_prop = max(max_prop, prop_alloc - val['action'][0])\n",
    "print(max_prop)"
   ]
  },
  {
   "cell_type": "code",
   "execution_count": 72,
   "id": "dangerous-reply",
   "metadata": {},
   "outputs": [
    {
     "data": {
      "text/plain": [
       "-1.130672075370913"
      ]
     },
     "execution_count": 72,
     "metadata": {},
     "output_type": "execute_result"
    }
   ],
   "source": [
    "or_suite.utils.delta_proportionality(x, or_suite.envs.env_configs.resource_allocation_simple_poisson_config)"
   ]
  },
  {
   "cell_type": "code",
   "execution_count": 76,
   "id": "broadband-arrest",
   "metadata": {},
   "outputs": [],
   "source": [
    "# delta prop and delta OPT should be the same for a single resource?"
   ]
  },
  {
   "cell_type": "code",
   "execution_count": 77,
   "id": "verified-neutral",
   "metadata": {},
   "outputs": [
    {
     "data": {
      "text/plain": [
       "-1.1306705369093744"
      ]
     },
     "execution_count": 77,
     "metadata": {},
     "output_type": "execute_result"
    }
   ],
   "source": [
    "or_suite.utils.delta_OPT(x, or_suite.envs.env_configs.resource_allocation_simple_poisson_config)"
   ]
  },
  {
   "cell_type": "code",
   "execution_count": null,
   "id": "looking-brisbane",
   "metadata": {},
   "outputs": [],
   "source": [
    "max_sol = 0\n",
    "min_sol = 20\n",
    "\n",
    "for val in x:\n",
    "    max_sol = max(max_sol, val['action'][0])\n",
    "    min_sol = min(min_sol, val['ac'])"
   ]
  }
 ],
 "metadata": {
  "kernelspec": {
   "display_name": "Python 3",
   "language": "python",
   "name": "python3"
  },
  "language_info": {
   "codemirror_mode": {
    "name": "ipython",
    "version": 3
   },
   "file_extension": ".py",
   "mimetype": "text/x-python",
   "name": "python",
   "nbconvert_exporter": "python",
   "pygments_lexer": "ipython3",
   "version": "3.8.5"
  }
 },
 "nbformat": 4,
 "nbformat_minor": 5
}
